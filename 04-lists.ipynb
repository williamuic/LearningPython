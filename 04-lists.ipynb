{
 "cells": [
  {
   "cell_type": "code",
   "execution_count": 1,
   "id": "2761ce0a-8de1-4a48-a1eb-67784165b6fc",
   "metadata": {},
   "outputs": [
    {
     "name": "stdout",
     "output_type": "stream",
     "text": [
      "Odds are: [1, 3, 5, 7]\n"
     ]
    }
   ],
   "source": [
    "odds=[1,3,5,7]\n",
    "print('Odds are:' , odds)"
   ]
  },
  {
   "cell_type": "code",
   "execution_count": 2,
   "id": "8713c3ff-253e-4aff-9500-c93dd79b0ecb",
   "metadata": {},
   "outputs": [
    {
     "name": "stdout",
     "output_type": "stream",
     "text": [
      "First element in the list 1\n"
     ]
    }
   ],
   "source": [
    "print(\"First element in the list\", odds[0])"
   ]
  },
  {
   "cell_type": "code",
   "execution_count": 3,
   "id": "2d5ddf3e-00e5-401d-885d-57002ef399d8",
   "metadata": {},
   "outputs": [
    {
     "name": "stdout",
     "output_type": "stream",
     "text": [
      "Last element in the list 7\n"
     ]
    }
   ],
   "source": [
    "print(\"Last element in the list\", odds[-1])"
   ]
  },
  {
   "cell_type": "code",
   "execution_count": 5,
   "id": "c81a32d2-1e49-41e2-80ef-a9d8c87e4784",
   "metadata": {},
   "outputs": [
    {
     "name": "stdout",
     "output_type": "stream",
     "text": [
      "Every second element in the list [1, 5]\n"
     ]
    }
   ],
   "source": [
    "print(\"Every second element in the list\",odds[0::2])"
   ]
  },
  {
   "cell_type": "code",
   "execution_count": 6,
   "id": "15eb5699-da80-4484-9f18-2066a07bfff1",
   "metadata": {},
   "outputs": [
    {
     "name": "stdout",
     "output_type": "stream",
     "text": [
      "names is originally ['Curie', 'Darwing', 'Turing']\n",
      "Final values of names ['Curie', 'Darwin', 'Turing']\n"
     ]
    }
   ],
   "source": [
    "names=[\"Curie\",\"Darwing\",\"Turing\"]\n",
    "print(\"names is originally\",names)\n",
    "names[1]=\"Darwin\"\n",
    "print(\"Final values of names\",names)\n"
   ]
  },
  {
   "cell_type": "code",
   "execution_count": 7,
   "id": "3748de91-1b1d-41d0-9310-867afd805a95",
   "metadata": {},
   "outputs": [
    {
     "name": "stdout",
     "output_type": "stream",
     "text": [
      "First chaaracter in the name D\n"
     ]
    }
   ],
   "source": [
    "name=\"Darwin\"\n",
    "print(\"First chaaracter in the name\",name[0])\n"
   ]
  },
  {
   "cell_type": "code",
   "execution_count": 8,
   "id": "a0b734da-6ab8-4f93-8f42-0cf0737a0f22",
   "metadata": {},
   "outputs": [
    {
     "ename": "TypeError",
     "evalue": "'str' object does not support item assignment",
     "output_type": "error",
     "traceback": [
      "\u001b[1;31m---------------------------------------------------------------------------\u001b[0m",
      "\u001b[1;31mTypeError\u001b[0m                                 Traceback (most recent call last)",
      "Input \u001b[1;32mIn [8]\u001b[0m, in \u001b[0;36m<cell line: 1>\u001b[1;34m()\u001b[0m\n\u001b[1;32m----> 1\u001b[0m name[\u001b[38;5;241m0\u001b[39m]\u001b[38;5;241m=\u001b[39m\u001b[38;5;124m\"\u001b[39m\u001b[38;5;124md\u001b[39m\u001b[38;5;124m\"\u001b[39m\n",
      "\u001b[1;31mTypeError\u001b[0m: 'str' object does not support item assignment"
     ]
    }
   ],
   "source": [
    "name[0]=\"d\""
   ]
  },
  {
   "cell_type": "code",
   "execution_count": 9,
   "id": "1d71872a-08b7-413a-8868-de5d8caf0b1c",
   "metadata": {},
   "outputs": [
    {
     "name": "stdout",
     "output_type": "stream",
     "text": [
      "['pepper', 'courgette', 'onion']\n"
     ]
    }
   ],
   "source": [
    "x=[\n",
    "  [\"pepper\",\"courgette\",\"onion\"],\n",
    "  [\"cabbage\",\"lettuce\",\"garlic\"],\n",
    "  [\"apple\",\"pear\",\"banana\"]\n",
    "]\n",
    "print(x[0])"
   ]
  },
  {
   "cell_type": "code",
   "execution_count": 10,
   "id": "8f01a60c-4dc4-480f-b51e-66119720104f",
   "metadata": {},
   "outputs": [
    {
     "name": "stdout",
     "output_type": "stream",
     "text": [
      "courgette\n"
     ]
    }
   ],
   "source": [
    "print(x[0][1])"
   ]
  },
  {
   "cell_type": "code",
   "execution_count": 11,
   "id": "e1bd7634-d157-4212-b5bf-fc2ce1ff4121",
   "metadata": {},
   "outputs": [],
   "source": [
    "removed_element=odds.pop(0)"
   ]
  },
  {
   "cell_type": "code",
   "execution_count": 12,
   "id": "b420be11-5c69-4cc6-98b3-6f9259c37b3e",
   "metadata": {},
   "outputs": [
    {
     "name": "stdout",
     "output_type": "stream",
     "text": [
      "removed elements 1\n"
     ]
    }
   ],
   "source": [
    "print(\"removed elements\",removed_element)"
   ]
  },
  {
   "cell_type": "code",
   "execution_count": 13,
   "id": "65ceb1a1-a361-466a-a884-033d3a1d53bf",
   "metadata": {},
   "outputs": [
    {
     "name": "stdout",
     "output_type": "stream",
     "text": [
      "None\n"
     ]
    }
   ],
   "source": [
    "print(odds.reverse())"
   ]
  },
  {
   "cell_type": "code",
   "execution_count": 14,
   "id": "8da8eb37-317c-43d4-b63f-3b98bacff9c5",
   "metadata": {},
   "outputs": [
    {
     "data": {
      "text/plain": [
       "[7, 5, 3]"
      ]
     },
     "execution_count": 14,
     "metadata": {},
     "output_type": "execute_result"
    }
   ],
   "source": [
    "odds"
   ]
  },
  {
   "cell_type": "code",
   "execution_count": 15,
   "id": "30dd92f7-7d00-49cc-95f1-c0c102776dde",
   "metadata": {},
   "outputs": [
    {
     "name": "stdout",
     "output_type": "stream",
     "text": [
      "2013\n"
     ]
    }
   ],
   "source": [
    "string=\"1264854642013\"\n",
    "print(string[-4:])"
   ]
  },
  {
   "cell_type": "code",
   "execution_count": 16,
   "id": "eac083f9-bf20-4d4f-b773-98a861f8610e",
   "metadata": {},
   "outputs": [
    {
     "data": {
      "text/plain": [
       "'I notpssgre ntesa'"
      ]
     },
     "execution_count": 16,
     "metadata": {},
     "output_type": "execute_result"
    }
   ],
   "source": [
    "beatles = \"In an octopus's garden in the shade\"\n",
    "\n",
    "beatles[0:-1:2]"
   ]
  },
  {
   "cell_type": "code",
   "execution_count": 17,
   "id": "a3a6c28d-ba66-444a-84bc-3ea221d06cae",
   "metadata": {},
   "outputs": [],
   "source": [
    "counts = [2, 4, 6, 8, 10]\n",
    "repeats=counts*2"
   ]
  },
  {
   "cell_type": "code",
   "execution_count": 18,
   "id": "cc28694b-d352-409d-a64e-026cb896d0bd",
   "metadata": {},
   "outputs": [
    {
     "name": "stdout",
     "output_type": "stream",
     "text": [
      "[2, 4, 6, 8, 10, 2, 4, 6, 8, 10]\n"
     ]
    }
   ],
   "source": [
    "print(repeats)"
   ]
  },
  {
   "cell_type": "code",
   "execution_count": null,
   "id": "04f259b2-3201-4654-8678-981d3bf8d443",
   "metadata": {},
   "outputs": [],
   "source": []
  }
 ],
 "metadata": {
  "kernelspec": {
   "display_name": "Python 3 (ipykernel)",
   "language": "python",
   "name": "python3"
  },
  "language_info": {
   "codemirror_mode": {
    "name": "ipython",
    "version": 3
   },
   "file_extension": ".py",
   "mimetype": "text/x-python",
   "name": "python",
   "nbconvert_exporter": "python",
   "pygments_lexer": "ipython3",
   "version": "3.9.12"
  }
 },
 "nbformat": 4,
 "nbformat_minor": 5
}
