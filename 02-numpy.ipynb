{
 "cells": [
  {
   "cell_type": "markdown",
   "id": "d207b2a2-78c6-485a-a5ec-347dce611e56",
   "metadata": {},
   "source": [
    "### Libraries for scientific research"
   ]
  },
  {
   "cell_type": "code",
   "execution_count": 1,
   "id": "7dc00c88-bf21-41db-b188-a4f6cc025c65",
   "metadata": {},
   "outputs": [],
   "source": [
    "import numpy"
   ]
  },
  {
   "cell_type": "code",
   "execution_count": 3,
   "id": "3e43bf41-7eb8-4d8b-a9bc-1056eec510e1",
   "metadata": {},
   "outputs": [
    {
     "data": {
      "text/plain": [
       "array([[0., 0., 1., ..., 3., 0., 0.],\n",
       "       [0., 1., 2., ..., 1., 0., 1.],\n",
       "       [0., 1., 1., ..., 2., 1., 1.],\n",
       "       ...,\n",
       "       [0., 1., 1., ..., 1., 1., 1.],\n",
       "       [0., 0., 0., ..., 0., 2., 0.],\n",
       "       [0., 0., 1., ..., 1., 1., 0.]])"
      ]
     },
     "execution_count": 3,
     "metadata": {},
     "output_type": "execute_result"
    }
   ],
   "source": [
    "numpy.loadtxt(fname='data/inflammation-01.csv',delimiter=',')"
   ]
  },
  {
   "cell_type": "code",
   "execution_count": 5,
   "id": "b2de4663-dd10-468c-877e-45b596b1b8bf",
   "metadata": {},
   "outputs": [],
   "source": [
    "arthritis=numpy.loadtxt(fname='data/inflammation-01.csv',delimiter=',')"
   ]
  },
  {
   "cell_type": "code",
   "execution_count": 7,
   "id": "0c4ad772-068f-4a6f-bf6d-af0c26869e10",
   "metadata": {},
   "outputs": [
    {
     "name": "stdout",
     "output_type": "stream",
     "text": [
      "[[0. 0. 1. ... 3. 0. 0.]\n",
      " [0. 1. 2. ... 1. 0. 1.]\n",
      " [0. 1. 1. ... 2. 1. 1.]\n",
      " ...\n",
      " [0. 1. 1. ... 1. 1. 1.]\n",
      " [0. 0. 0. ... 0. 2. 0.]\n",
      " [0. 0. 1. ... 1. 1. 0.]]\n"
     ]
    }
   ],
   "source": [
    "print(arthritis)"
   ]
  },
  {
   "cell_type": "code",
   "execution_count": 8,
   "id": "e71536d6-bc66-45f0-9bc5-1cb70f4d4ade",
   "metadata": {},
   "outputs": [
    {
     "name": "stdout",
     "output_type": "stream",
     "text": [
      "<class 'numpy.ndarray'>\n"
     ]
    }
   ],
   "source": [
    "print(type(arthritis))\n"
   ]
  },
  {
   "cell_type": "code",
   "execution_count": 10,
   "id": "ab9f2db3-9740-4d89-b977-e64f39c52112",
   "metadata": {},
   "outputs": [
    {
     "name": "stdout",
     "output_type": "stream",
     "text": [
      "float64\n",
      "(60, 40)\n"
     ]
    }
   ],
   "source": [
    "print(arthritis.dtype)\n",
    "print(arthritis.shape)"
   ]
  },
  {
   "cell_type": "code",
   "execution_count": 11,
   "id": "298b6a35-b51d-4db6-aab0-27b539819788",
   "metadata": {},
   "outputs": [
    {
     "name": "stdout",
     "output_type": "stream",
     "text": [
      "first value in arthritis: 0.0\n"
     ]
    }
   ],
   "source": [
    "print(\"first value in arthritis:\", arthritis[0,0])"
   ]
  },
  {
   "cell_type": "code",
   "execution_count": 12,
   "id": "59d5c02c-1a62-41fa-9268-34712ed8a4a7",
   "metadata": {},
   "outputs": [],
   "source": [
    "corner=arthritis[:3,36:]"
   ]
  },
  {
   "cell_type": "code",
   "execution_count": 13,
   "id": "d964b82d-9ee2-4baa-90bd-47d1871501d4",
   "metadata": {},
   "outputs": [
    {
     "name": "stdout",
     "output_type": "stream",
     "text": [
      "[[2. 3. 0. 0.]\n",
      " [1. 1. 0. 1.]\n",
      " [2. 2. 1. 1.]]\n"
     ]
    }
   ],
   "source": [
    "print(corner)"
   ]
  },
  {
   "cell_type": "code",
   "execution_count": 16,
   "id": "5cd4329d-bcbf-45b6-ab14-6115d67fc666",
   "metadata": {},
   "outputs": [
    {
     "name": "stdout",
     "output_type": "stream",
     "text": [
      "xyg\n"
     ]
    }
   ],
   "source": [
    "a='oxygen'\n",
    "print(a[1:4])"
   ]
  },
  {
   "cell_type": "markdown",
   "id": "4458b5bb-c384-4445-a4e8-847e84cbef6d",
   "metadata": {},
   "source": [
    "## Operation"
   ]
  },
  {
   "cell_type": "code",
   "execution_count": 17,
   "id": "956a60a1-7dd4-470b-b002-1e269982495b",
   "metadata": {},
   "outputs": [],
   "source": [
    "double_arthritis = arthritis*2"
   ]
  },
  {
   "cell_type": "code",
   "execution_count": 20,
   "id": "ed09a82d-0d04-4f2e-9f32-bedaa8d07947",
   "metadata": {},
   "outputs": [
    {
     "name": "stdout",
     "output_type": "stream",
     "text": [
      "original\n",
      "[[2. 3. 0. 0.]\n",
      " [1. 1. 0. 1.]\n",
      " [2. 2. 1. 1.]]\n",
      "double\n",
      "[[4. 6. 0. 0.]\n",
      " [2. 2. 0. 2.]\n",
      " [4. 4. 2. 2.]]\n"
     ]
    }
   ],
   "source": [
    "print(\"original\")\n",
    "print(arthritis[:3,36:])\n",
    "print(\"double\")\n",
    "print(double_arthritis[:3,36:])"
   ]
  },
  {
   "cell_type": "code",
   "execution_count": 21,
   "id": "d33f8413-0fbb-47ea-a788-976502298a0f",
   "metadata": {},
   "outputs": [],
   "source": [
    "triple_arthritis=double_arthritis+arthritis"
   ]
  },
  {
   "cell_type": "code",
   "execution_count": 22,
   "id": "f0a8ce0a-f9c2-452a-8d6f-2a3b90578f38",
   "metadata": {},
   "outputs": [
    {
     "name": "stdout",
     "output_type": "stream",
     "text": [
      "[[6. 9. 0. 0.]\n",
      " [3. 3. 0. 3.]\n",
      " [6. 6. 3. 3.]]\n"
     ]
    }
   ],
   "source": [
    "print(triple_arthritis[:3,36:])"
   ]
  },
  {
   "cell_type": "markdown",
   "id": "773e3585-e960-40b0-8152-c598b7aecefe",
   "metadata": {},
   "source": [
    "## Methods(verbs)"
   ]
  },
  {
   "cell_type": "code",
   "execution_count": 23,
   "id": "ba0f918a-8787-4b0f-befb-f07c19c43e2b",
   "metadata": {},
   "outputs": [
    {
     "name": "stdout",
     "output_type": "stream",
     "text": [
      "6.14875\n"
     ]
    }
   ],
   "source": [
    "print(arthritis.mean())"
   ]
  },
  {
   "cell_type": "code",
   "execution_count": 24,
   "id": "9de1edb8-9c4b-492f-bc48-2b03ac8b10d1",
   "metadata": {},
   "outputs": [
    {
     "name": "stdout",
     "output_type": "stream",
     "text": [
      "maximum inflammation: 20.0\n",
      "minimum inflammation: 0.0\n",
      "standard deviation: 4.613833197118566\n"
     ]
    }
   ],
   "source": [
    "print(\"maximum inflammation:\",arthritis.max())\n",
    "print(\"minimum inflammation:\",arthritis.min())\n",
    "print(\"standard deviation:\",arthritis.std())"
   ]
  },
  {
   "cell_type": "code",
   "execution_count": 25,
   "id": "dd2431ce-ea4a-49b7-a02c-3ccf007d17b9",
   "metadata": {},
   "outputs": [
    {
     "data": {
      "text/plain": [
       "2400"
      ]
     },
     "execution_count": 25,
     "metadata": {},
     "output_type": "execute_result"
    }
   ],
   "source": [
    "arthritis.size"
   ]
  },
  {
   "cell_type": "code",
   "execution_count": 26,
   "id": "45cbc8a2-576c-46f5-bab1-16022a667eb6",
   "metadata": {},
   "outputs": [
    {
     "name": "stdout",
     "output_type": "stream",
     "text": [
      "maximum inflammation for patient 2\n"
     ]
    }
   ],
   "source": [
    "print(\"maximum inflammation for patient 2\")"
   ]
  },
  {
   "cell_type": "code",
   "execution_count": 29,
   "id": "e5b1a1da-4d8e-4504-92b4-ca01fd8b31ee",
   "metadata": {},
   "outputs": [
    {
     "name": "stdout",
     "output_type": "stream",
     "text": [
      "4.579294680644961\n"
     ]
    }
   ],
   "source": [
    "print((arthritis.std(axis=1)).mean())"
   ]
  },
  {
   "cell_type": "code",
   "execution_count": null,
   "id": "2a34aba3-cb55-426e-b831-7945d94c429a",
   "metadata": {},
   "outputs": [],
   "source": []
  }
 ],
 "metadata": {
  "kernelspec": {
   "display_name": "Python 3 (ipykernel)",
   "language": "python",
   "name": "python3"
  },
  "language_info": {
   "codemirror_mode": {
    "name": "ipython",
    "version": 3
   },
   "file_extension": ".py",
   "mimetype": "text/x-python",
   "name": "python",
   "nbconvert_exporter": "python",
   "pygments_lexer": "ipython3",
   "version": "3.9.12"
  }
 },
 "nbformat": 4,
 "nbformat_minor": 5
}
